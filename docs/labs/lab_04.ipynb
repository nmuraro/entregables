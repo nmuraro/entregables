{
  "cells": [
    {
      "cell_type": "markdown",
      "metadata": {
        "id": "view-in-github",
        "colab_type": "text"
      },
      "source": [
        "<a href=\"https://colab.research.google.com/github/nmuraro/entregables/blob/main/docs/labs/lab_04.ipynb\" target=\"_parent\"><img src=\"https://colab.research.google.com/assets/colab-badge.svg\" alt=\"Open In Colab\"/></a>"
      ]
    },
    {
      "cell_type": "markdown",
      "id": "64fe4451",
      "metadata": {
        "id": "64fe4451"
      },
      "source": [
        "<a href=\"https://colab.research.google.com/github/fralfaro/MAT281/blob/main/docs/labs/lab_04.ipynb\" target=\"_parent\"><img src=\"https://colab.research.google.com/assets/colab-badge.svg\" alt=\"Open In Colab\"/></a>\n",
        "\n",
        "# MAT281 - Laboratorio N°04\n"
      ]
    },
    {
      "cell_type": "markdown",
      "id": "27b10378",
      "metadata": {
        "id": "27b10378"
      },
      "source": [
        "**Objetivo**: Aplicar técnicas intermedias y avanzadas de análisis de datos con pandas utilizando un caso real: el Índice de Libertad de Prensa. Este laboratorio incluye operaciones de limpieza, transformación, combinación de datos, y análisis exploratorio usando `merge`, `groupby`, `concat` y otras funciones fundamentales.\n"
      ]
    },
    {
      "cell_type": "markdown",
      "id": "63a15921",
      "metadata": {
        "id": "63a15921"
      },
      "source": [
        "\n",
        "\n",
        "**Descripción del Dataset**\n",
        "\n",
        "El presente conjunto de datos está orientado al análisis del **Índice de Libertad de Prensa**, una métrica internacional que evalúa el nivel de libertad del que gozan periodistas y medios de comunicación en distintos países. Este índice es recopilado anualmente por la organización **Reporteros sin Fronteras**.\n",
        "\n",
        "La base de datos contempla observaciones por país y año, e incluye tanto el valor del índice como el ranking correspondiente. A menor puntaje en el índice, mayor nivel de libertad de prensa.\n",
        "\n",
        "**Diccionario de variables**\n",
        "\n",
        "| Variable     | Clase    | Descripción                                                                          |\n",
        "| ------------ | -------- | ------------------------------------------------------------------------------------ |\n",
        "| `codigo_iso` | carácter | Código ISO 3166-1 alfa-3 que representa a cada país.                                 |\n",
        "| `pais`       | carácter | Nombre oficial del país.                                                             |\n",
        "| `anio`       | entero   | Año en que se registró la medición del índice.                                       |\n",
        "| `indice`     | numérico | Valor numérico del Índice de Libertad de Prensa (menor valor indica mayor libertad). |\n",
        "| `ranking`    | entero   | Posición relativa del país en el ranking mundial de libertad de prensa.              |\n",
        "\n",
        "\n",
        "**Fuente original y adaptación pedagógica**\n",
        "\n",
        "* **Fuente original**: [Reporteros sin Fronteras](https://www.rsf-es.org/), recopilado y publicado a través del portal del [Banco Mundial](https://tcdata360.worldbank.org/indicators/h3f86901f?country=BRA&indicator=32416&viz=line_chart&years=2001,2019).\n",
        "* **Adaptación educativa**: Los archivos han sido modificados intencionalmente para incorporar desafíos técnicos que permiten aplicar los contenidos abordados en clases, tales como limpieza de datos, normalización, detección de duplicados, y combinación de fuentes.\n",
        "\n",
        "\n",
        "**Descripción de los archivos disponibles**\n",
        "\n",
        "* **`libertad_prensa_codigo.csv`**: Contiene los pares `codigo_iso` y `pais`. Incluye intencionalmente un código ISO con dos nombres distintos de país para efectos de limpieza y validación de datos.\n",
        "\n",
        "* **`libertad_prensa_01.csv`**: Contiene registros de los años **anteriores a 2010**. Incluye las variables `PAIS`, `ANIO`, `INDICE`, y `RANKING` con nombres de columna en **mayúsculas**.\n",
        "\n",
        "* **`libertad_prensa_02.csv`**: Contiene registros de los años **desde 2010 en adelante**. Estructura similar al archivo anterior, con nombres de columna también en **mayúsculas**.\n",
        "\n",
        "\n",
        "\n"
      ]
    },
    {
      "cell_type": "code",
      "execution_count": null,
      "id": "28a58320",
      "metadata": {
        "id": "28a58320"
      },
      "outputs": [],
      "source": [
        "import numpy as np\n",
        "import pandas as pd\n",
        "\n",
        "# lectura de datos\n",
        "archivos_anio = [\n",
        "    'https://raw.githubusercontent.com/fralfaro/MAT281/main/docs/labs/data/libertad_prensa_01.csv',\n",
        "    'https://raw.githubusercontent.com/fralfaro/MAT281/main/docs/labs/data/libertad_prensa_02.csv'\n",
        " ]\n",
        "df_codigos = pd.read_csv('https://raw.githubusercontent.com/fralfaro/MAT281/main/docs/labs/data/libertad_prensa_codigo.csv')"
      ]
    },
    {
      "cell_type": "markdown",
      "id": "0894056d",
      "metadata": {
        "id": "0894056d"
      },
      "source": [
        "\n",
        "\n",
        "### 1. Consolidación y limpieza de datos\n",
        "\n",
        "A partir de los archivos disponibles, realice los siguientes pasos:\n",
        "\n",
        "**a)** Cree un DataFrame llamado `df_anio` que consolide la información proveniente de los archivos **`libertad_prensa_01.csv`** y **`libertad_prensa_02.csv`**, correspondientes a distintas ventanas de tiempo. Recuerde que ambos archivos tienen nombres de columnas en mayúscula, por lo que debe normalizarlas a **minúscula** para asegurar consistencia.\n",
        "\n",
        "**b)** Explore el archivo **`libertad_prensa_codigo.csv`** e identifique el código ISO que aparece asociado a dos nombres de país distintos. Elimine el registro que corresponda a un valor incorrecto o inconsistente, conservando solo el que considere válido.\n",
        "\n",
        "**c)** Una vez preparados los archivos, cree un nuevo DataFrame llamado `df` que combine `df_anio` con `df_codigos`, utilizando la columna `codigo_iso` como clave. Asegúrese de realizar una unión que conserve únicamente los registros que tengan coincidencia en ambas fuentes.\n",
        "\n",
        "> **Sugerencia**:\n",
        ">\n",
        "> * Para unir los archivos por filas (años), utilice la función `pd.concat([...])`.\n",
        "> * Para combinar información por columnas (variables), utilice `pd.merge(...)` especificando `on='codigo_iso'`.\n",
        "\n"
      ]
    },
    {
      "cell_type": "code",
      "execution_count": null,
      "id": "cfd268a0",
      "metadata": {
        "colab": {
          "base_uri": "https://localhost:8080/"
        },
        "id": "cfd268a0",
        "outputId": "82d91f73-0b64-46a0-ecc3-90409a0a6d66"
      },
      "outputs": [
        {
          "output_type": "stream",
          "name": "stdout",
          "text": [
            "  codigo_iso  anio  indice  ranking\n",
            "0        AFG  2001    35.5     59.0\n",
            "1        AGO  2001    30.2     50.0\n",
            "2        ALB  2001     NaN      NaN\n",
            "3        AND  2001     NaN      NaN\n",
            "4        ARE  2001     NaN      NaN\n",
            "Empty DataFrame\n",
            "Columns: [codigo_iso, pais]\n",
            "Index: []\n",
            "Empty DataFrame\n",
            "Columns: [codigo_iso, pais]\n",
            "Index: []\n",
            "  codigo_iso  anio  indice  ranking                    pais\n",
            "0        AFG  2001    35.5     59.0             Afghanistán\n",
            "1        AGO  2001    30.2     50.0                  Angola\n",
            "2        ALB  2001     NaN      NaN                 Albania\n",
            "3        AND  2001     NaN      NaN                 Andorra\n",
            "4        ARE  2001     NaN      NaN  Emiratos Árabes Unidos\n"
          ]
        }
      ],
      "source": [
        "df_anio_list = [\n",
        "    pd.read_csv(url).rename(columns=str.lower)\n",
        "    for url in archivos_anio\n",
        "]\n",
        "df_anio = pd.concat(df_anio_list, ignore_index=True)\n",
        "print(df_anio.head())\n",
        "\n",
        "# Buscar códigos ISO duplicados\n",
        "duplicados = df_codigos[df_codigos.duplicated('codigo_iso', keep=False)]\n",
        "print(duplicados)\n",
        "\n",
        "# Eliminamos el registro no deseado (Burma)\n",
        "df_codigos = df_codigos[df_codigos['pais'] != 'malo']\n",
        "\n",
        "duplicados = df_codigos[df_codigos.duplicated('codigo_iso', keep=False)]\n",
        "print(duplicados)\n",
        "\n",
        "# Hacer la unión\n",
        "df = pd.merge(df_anio, df_codigos, on='codigo_iso', how='inner')\n",
        "\n",
        "# Mostrar el resultado\n",
        "print(df.head())"
      ]
    },
    {
      "cell_type": "markdown",
      "id": "282e8301",
      "metadata": {
        "id": "282e8301"
      },
      "source": [
        "\n",
        "\n",
        "### 2. Exploración inicial del conjunto de datos\n",
        "\n",
        "Una vez que hayas consolidado el DataFrame final `df`, realiza un análisis exploratorio básico respondiendo las siguientes preguntas:\n",
        "\n",
        "#### **Estructura del DataFrame**\n",
        "\n",
        "* ¿Cuántas **filas (observaciones)** contiene el conjunto de datos?\n",
        "* ¿Cuántas **columnas** tiene el DataFrame?\n",
        "* ¿Cuáles son los **nombres de las columnas**?\n",
        "* ¿Qué **tipo de datos** tiene cada columna?\n",
        "* ¿Hay columnas con un tipo de dato inesperado (por ejemplo, fechas como strings)?\n",
        "\n",
        "#### **Resumen estadístico**\n",
        "\n",
        "* Genera un resumen estadístico del conjunto de datos con `.describe()`.\n",
        "  ¿Qué observas sobre los valores de `indice` y `ranking`?\n",
        "* ¿Qué valores mínimo, máximo y promedio tiene la columna `indice`?\n",
        "* ¿Qué países presentan los valores extremos en `indice` y `ranking`?\n",
        "\n",
        "#### **Datos faltantes**\n",
        "\n",
        "* ¿Cuántos valores nulos hay en cada columna?\n",
        "* ¿Qué proporción de observaciones tienen valores faltantes?\n",
        "* ¿Hay columnas con más del 30% de datos faltantes?\n",
        "\n",
        "#### **Unicidad y duplicados**\n",
        "\n",
        "* ¿Cuántos países distintos (`pais`) hay en el DataFrame?\n",
        "* ¿Cuántos años distintos (`anio`) hay representados?\n",
        "* ¿Existen filas duplicadas (exactamente iguales)? ¿Cuántas?\n",
        "\n",
        "#### **Validación cruzada de columnas**\n",
        "\n",
        "* ¿Hay inconsistencias entre el país (`pais`) y su código (`codigo_iso`)?\n",
        "  (por ejemplo, un mismo código ISO asociado a más de un país)\n",
        "\n",
        "> **Sugerencia**: Apoya tu análisis con funciones como `.info()`, `.nunique()`, `.isnull().sum()`, `.duplicated()`, `.value_counts()`, entre otras.\n",
        "\n",
        "\n",
        "\n",
        "    "
      ]
    },
    {
      "cell_type": "code",
      "execution_count": null,
      "id": "14369830",
      "metadata": {
        "colab": {
          "base_uri": "https://localhost:8080/"
        },
        "id": "14369830",
        "outputId": "1bf6ce5b-6e04-46a5-d80c-163d60438b19"
      },
      "outputs": [
        {
          "output_type": "stream",
          "name": "stdout",
          "text": [
            "Shape (filas, columnas): (3060, 5)\n",
            "Nombres de columnas: ['codigo_iso', 'anio', 'indice', 'ranking', 'pais']\n",
            "\n",
            "Tipos de datos por columna:\n",
            "codigo_iso     object\n",
            "anio            int64\n",
            "indice        float64\n",
            "ranking       float64\n",
            "pais           object\n",
            "dtype: object\n",
            "\n",
            "Resumen con .info():\n",
            "<class 'pandas.core.frame.DataFrame'>\n",
            "RangeIndex: 3060 entries, 0 to 3059\n",
            "Data columns (total 5 columns):\n",
            " #   Column      Non-Null Count  Dtype  \n",
            "---  ------      --------------  -----  \n",
            " 0   codigo_iso  3060 non-null   object \n",
            " 1   anio        3060 non-null   int64  \n",
            " 2   indice      2664 non-null   float64\n",
            " 3   ranking     2837 non-null   float64\n",
            " 4   pais        3060 non-null   object \n",
            "dtypes: float64(2), int64(1), object(2)\n",
            "memory usage: 119.7+ KB\n"
          ]
        }
      ],
      "source": [
        "#ESTRUCTURA DE DATOS\n",
        "\n",
        "#¿Cuántas filas (observaciones) contiene el conjunto de datos?\n",
        "#¿Cuántas columnas tiene el DataFrame?\n",
        "# Número de filas y columnas\n",
        "print(\"Shape (filas, columnas):\", df.shape)\n",
        "\n",
        "#¿Cuáles son los nombres de las columnas?\n",
        "# Nombres de columnas\n",
        "print(\"Nombres de columnas:\", df.columns.tolist())\n",
        "\n",
        "#¿Qué tipo de datos tiene cada columna?\n",
        "# Tipos de datos\n",
        "print(\"\\nTipos de datos por columna:\")\n",
        "print(df.dtypes)\n",
        "#¿Hay columnas con un tipo de dato inesperado (por ejemplo, fechas como strings)?\n",
        "# Información general\n",
        "print(\"\\nResumen con .info():\")\n",
        "df.info()"
      ]
    },
    {
      "cell_type": "code",
      "source": [
        "# RESUMEN ESTADISTICO\n",
        "\n",
        "#¿Qué observas sobre los valores de indice y ranking?\n",
        "print(\"\\nResumen estadístico:\")\n",
        "print(df.describe())\n",
        "\n",
        "#¿Qué valores mínimo, máximo y promedio tiene la columna indice?\n",
        "min_indice = df['indice'].min()\n",
        "max_indice = df['indice'].max()\n",
        "mean_indice = df['indice'].mean()\n",
        "print(f\"\\nÍndice - Mínimo: {min_indice}, Máximo: {max_indice}, Promedio: {mean_indice:.2f}\")\n",
        "#¿Qué países presentan los valores extremos en indice y ranking?\n",
        "\n",
        "# País con menor índice\n",
        "print(\"\\nPaises con menor índice:\")\n",
        "print(df[df['indice'] == min_indice][['pais', 'codigo_iso', 'anio', 'indice']])\n",
        "\n",
        "# País con mayor índice\n",
        "print(\"\\nPaís con mayor índice:\")\n",
        "print(df[df['indice'] == max_indice][['pais', 'codigo_iso', 'anio', 'indice']])\n",
        "\n",
        "# País con ranking 1 (más alto)\n",
        "print(\"\\nPaises con ranking más alto (ranking == 1):\")\n",
        "print(df[df['ranking'] == 1][['pais', 'codigo_iso', 'anio', 'ranking']])"
      ],
      "metadata": {
        "colab": {
          "base_uri": "https://localhost:8080/"
        },
        "id": "mBuREB_BmYw1",
        "outputId": "1a2e6113-8725-4e39-fab6-76d8ead8918c"
      },
      "id": "mBuREB_BmYw1",
      "execution_count": null,
      "outputs": [
        {
          "output_type": "stream",
          "name": "stdout",
          "text": [
            "\n",
            "Resumen estadístico:\n",
            "              anio        indice        ranking\n",
            "count  3060.000000   2664.000000    2837.000000\n",
            "mean   2009.941176    205.782316     477.930913\n",
            "std       5.786024   2695.525264    6474.935347\n",
            "min    2001.000000      0.000000       1.000000\n",
            "25%    2005.000000     15.295000      34.000000\n",
            "50%    2009.000000     28.000000      70.000000\n",
            "75%    2015.000000     41.227500     110.000000\n",
            "max    2019.000000  64536.000000  121056.000000\n",
            "\n",
            "Índice - Mínimo: 0.0, Máximo: 64536.0, Promedio: 205.78\n",
            "\n",
            "Paises con menor índice:\n",
            "              pais codigo_iso  anio  indice\n",
            "1304     Dinamarca        DNK  2008     0.0\n",
            "1313     Finlandia        FIN  2008     0.0\n",
            "1335       Irlanda        IRL  2008     0.0\n",
            "1382       Noruega        NOR  2008     0.0\n",
            "1412        Suecia        SWE  2008     0.0\n",
            "1468         Suiza        CHE  2009     0.0\n",
            "1493     Finlandia        FIN  2009     0.0\n",
            "1518      Islandia        ISL  2009     0.0\n",
            "1561  Países Bajos        NLD  2009     0.0\n",
            "1562       Noruega        NOR  2009     0.0\n",
            "1592        Suecia        SWE  2009     0.0\n",
            "\n",
            "País con mayor índice:\n",
            "        pais codigo_iso  anio   indice\n",
            "2069  Kosovo        KSV  2014  64536.0\n",
            "\n",
            "Paises con ranking más alto (ranking == 1):\n",
            "               pais codigo_iso  anio  ranking\n",
            "53        Finlandia        FIN  2001      1.0\n",
            "78         Islandia        ISL  2001      1.0\n",
            "121    Países Bajos        NLD  2001      1.0\n",
            "122         Noruega        NOR  2001      1.0\n",
            "233       Finlandia        FIN  2002      1.0\n",
            "258        Islandia        ISL  2002      1.0\n",
            "301    Países Bajos        NLD  2002      1.0\n",
            "302         Noruega        NOR  2002      1.0\n",
            "388           Suiza        CHE  2003      1.0\n",
            "404       Dinamarca        DNK  2003      1.0\n",
            "413       Finlandia        FIN  2003      1.0\n",
            "435         Irlanda        IRL  2003      1.0\n",
            "438        Islandia        ISL  2003      1.0\n",
            "481    Países Bajos        NLD  2003      1.0\n",
            "482         Noruega        NOR  2003      1.0\n",
            "510      Eslovaquia        SVK  2003      1.0\n",
            "568           Suiza        CHE  2004      1.0\n",
            "584       Dinamarca        DNK  2004      1.0\n",
            "593       Finlandia        FIN  2004      1.0\n",
            "615         Irlanda        IRL  2004      1.0\n",
            "618        Islandia        ISL  2004      1.0\n",
            "661    Países Bajos        NLD  2004      1.0\n",
            "662         Noruega        NOR  2004      1.0\n",
            "773       Finlandia        FIN  2005      1.0\n",
            "795         Irlanda        IRL  2005      1.0\n",
            "798        Islandia        ISL  2005      1.0\n",
            "841    Países Bajos        NLD  2005      1.0\n",
            "978        Islandia        ISL  2006      1.0\n",
            "1022        Noruega        NOR  2006      1.0\n",
            "1158       Islandia        ISL  2007      1.0\n",
            "1179     Luxemburgo        LUX  2007      1.0\n",
            "1202        Noruega        NOR  2007      1.0\n",
            "1311        Estonia        EST  2008      1.0\n",
            "1449        Austria        AUT  2009      1.0\n",
            "1695        Irlanda        IRL  2012      1.0\n",
            "1809        Austria        AUT  2013      1.0\n",
            "2104  Nueva Zelanda        NZL  2014      1.0\n",
            "2284  Nueva Zelanda        NZL  2015      1.0\n",
            "2384      Dinamarca        DNK  2016      1.0\n",
            "2642        Noruega        NOR  2017      1.0\n",
            "2822        Noruega        NOR  2018      1.0\n",
            "3002        Noruega        NOR  2019      1.0\n"
          ]
        }
      ]
    },
    {
      "cell_type": "code",
      "source": [
        "\n",
        "#DATOS FALTANTES\n",
        "\n",
        "#¿Cuántos valores nulos hay en cada columna?\n",
        "# Cantidad de valores nulos por columna\n",
        "print(\"\\nValores nulos por columna:\")\n",
        "print(df.isnull().sum())\n",
        "\n",
        "\n",
        "#¿Qué proporción de observaciones tienen valores faltantes?\n",
        "# Proporción de valores faltantes por columna\n",
        "print(\"\\nProporción de valores nulos (%):\")\n",
        "print(df.isnull().mean() * 100)\n",
        "\n",
        "#¿Hay columnas con más del 30% de datos faltantes?\n",
        "# Filas con al menos un nulo\n",
        "total_filas = len(df)\n",
        "filas_con_nulos = df.isnull().any(axis=1).sum()\n",
        "proporcion_filas_con_nulos = filas_con_nulos / total_filas * 100\n",
        "print(f\"\\nFilas con al menos un valor nulo: {filas_con_nulos} ({proporcion_filas_con_nulos:.2f}%)\")\n",
        "\n",
        "# Columnas con más del 30% de valores nulos\n",
        "print(\"\\nColumnas con más del 30% de nulos:\")\n",
        "print(df.isnull().mean()[df.isnull().mean() > 0.3])\n"
      ],
      "metadata": {
        "colab": {
          "base_uri": "https://localhost:8080/"
        },
        "id": "v-82FdAMmf41",
        "outputId": "2c814ad7-f54b-4fc0-8a5e-021e7cf06258"
      },
      "id": "v-82FdAMmf41",
      "execution_count": null,
      "outputs": [
        {
          "output_type": "stream",
          "name": "stdout",
          "text": [
            "\n",
            "Valores nulos por columna:\n",
            "codigo_iso      0\n",
            "anio            0\n",
            "indice        396\n",
            "ranking       223\n",
            "pais            0\n",
            "dtype: int64\n",
            "\n",
            "Proporción de valores nulos (%):\n",
            "codigo_iso     0.000000\n",
            "anio           0.000000\n",
            "indice        12.941176\n",
            "ranking        7.287582\n",
            "pais           0.000000\n",
            "dtype: float64\n",
            "\n",
            "Filas con al menos un valor nulo: 397 (12.97%)\n",
            "\n",
            "Columnas con más del 30% de nulos:\n",
            "Series([], dtype: float64)\n"
          ]
        }
      ]
    },
    {
      "cell_type": "code",
      "source": [
        "#UNICIDAD Y DUPLICADOS\n",
        "\n",
        "#¿Cuántos países distintos (pais) hay en el DataFrame?\n",
        "# Países distintos\n",
        "print(\"\\nCantidad de países distintos:\", df['pais'].nunique())\n",
        "\n",
        "#¿Cuántos años distintos (anio) hay representados?\n",
        "# Años distintos\n",
        "print(\"Cantidad de años distintos:\", df['anio'].nunique())\n",
        "\n",
        "#¿Existen filas duplicadas (exactamente iguales)? ¿Cuántas?\n",
        "# Filas duplicadas\n",
        "duplicados = df.duplicated().sum()\n",
        "print(f\"Cantidad de filas duplicadas: {duplicados}\")\n"
      ],
      "metadata": {
        "colab": {
          "base_uri": "https://localhost:8080/"
        },
        "id": "Y2ESNwp7of2g",
        "outputId": "05b642a6-7a38-4429-9db6-12a0b6358044"
      },
      "id": "Y2ESNwp7of2g",
      "execution_count": null,
      "outputs": [
        {
          "output_type": "stream",
          "name": "stdout",
          "text": [
            "\n",
            "Cantidad de países distintos: 179\n",
            "Cantidad de años distintos: 17\n",
            "Cantidad de filas duplicadas: 0\n"
          ]
        }
      ]
    },
    {
      "cell_type": "code",
      "source": [
        "#Validación cruzada de columnas\n",
        "#¿Hay inconsistencias entre el país (pais) y su código (codigo_iso)? (por ejemplo, un mismo código ISO asociado a más de un país)\n",
        "#Sugerencia: Apoya tu análisis con funciones como .info(), .nunique(), .isnull().sum(), .duplicated(), .value_counts(), entre otras.\n",
        "# ¿Un código ISO aparece asociado a más de un nombre de país?\n",
        "duplicidad_codigo_iso = df.groupby('codigo_iso')['pais'].nunique()\n",
        "duplicados = duplicidad_codigo_iso[duplicidad_codigo_iso > 1]\n",
        "print(\"\\nCódigos ISO asociados a más de un país (inconsistencias):\")\n",
        "print(duplicados)\n"
      ],
      "metadata": {
        "colab": {
          "base_uri": "https://localhost:8080/"
        },
        "id": "i_JTxtBupQZG",
        "outputId": "cbcf2b78-db88-4528-c7c0-453d18a1adaa"
      },
      "id": "i_JTxtBupQZG",
      "execution_count": null,
      "outputs": [
        {
          "output_type": "stream",
          "name": "stdout",
          "text": [
            "\n",
            "Códigos ISO asociados a más de un país (inconsistencias):\n",
            "Series([], Name: pais, dtype: int64)\n"
          ]
        }
      ]
    },
    {
      "cell_type": "markdown",
      "id": "98efcc39",
      "metadata": {
        "id": "98efcc39"
      },
      "source": [
        "\n",
        "\n",
        "\n",
        "### 3. Comparación regional: países latinoamericanos\n",
        "\n",
        "En esta sección se busca identificar cuáles son los países de América Latina que han presentado los valores extremos del **Índice de Libertad de Prensa** en cada año observado.\n",
        "\n",
        "> Recuerda que un menor puntaje en `indice` implica mayor libertad de prensa.\n",
        "\n",
        "#### **Tareas:**\n",
        "\n",
        "**a)** Utilizando un ciclo `for`, recorre cada año del conjunto de datos filtrado por países latinoamericanos, y determina para cada año:\n",
        "\n",
        "* El país con el menor valor de `indice` (mayor libertad de prensa).\n",
        "* El país con el mayor valor de `indice` (menor libertad de prensa).\n",
        "\n",
        "**b)** Resuelve la misma tarea del punto anterior utilizando un enfoque vectorizado con `groupby`, sin usar ciclos explícitos.\n",
        "\n",
        "\n",
        "\n",
        "#### **Lista de países latinoamericanos considerada:**\n",
        "\n",
        "```python\n",
        "america = ['ARG', 'ATG', 'BLZ', 'BOL', 'BRA', 'CAN', 'CHL', 'COL', 'CRI',\n",
        "           'CUB', 'DOM', 'ECU', 'GRD', 'GTM', 'GUY', 'HND', 'HTI', 'JAM',\n",
        "           'MEX', 'NIC', 'PAN', 'PER', 'PRY', 'SLV', 'SUR', 'TTO', 'URY',\n",
        "           'USA', 'VEN']\n",
        "```\n",
        "\n",
        "> Puedes usar esta lista para filtrar el DataFrame final por la columna `codigo_iso`.\n",
        "\n"
      ]
    },
    {
      "cell_type": "code",
      "execution_count": null,
      "id": "9077a9bc",
      "metadata": {
        "colab": {
          "base_uri": "https://localhost:8080/"
        },
        "id": "9077a9bc",
        "outputId": "6fe1b66f-ce68-4c24-c8c6-81bcc9544976"
      },
      "outputs": [
        {
          "output_type": "stream",
          "name": "stdout",
          "text": [
            "    anio               pais codigo_iso\n",
            "5   2001          Argentina        ARG\n",
            "7   2001  Antigua y Barbuda        ATG\n",
            "20  2001             Belize        BLZ\n",
            "21  2001            Bolivia        BOL\n",
            "22  2001             Brasil        BRA\n"
          ]
        }
      ],
      "source": [
        "# respuesta\n",
        "america = ['ARG', 'ATG', 'BLZ', 'BOL', 'BRA', 'CAN', 'CHL', 'COL', 'CRI',\n",
        "       'CUB', 'DOM', 'ECU', 'GRD', 'GTM', 'GUY', 'HND', 'HTI', 'JAM',\n",
        "       'MEX', 'NIC', 'PAN', 'PER', 'PRY', 'SLV', 'SUR', 'TTO', 'URY',\n",
        "       'USA', 'VEN']\n",
        "\n",
        "df_america =  pd.DataFrame() # FIX ME\n",
        "df_america = df[df['codigo_iso'].isin(america)].copy()\n",
        "\n",
        "print(df_america[['anio', 'pais', 'codigo_iso']].head())\n"
      ]
    },
    {
      "cell_type": "code",
      "source": [
        "#a)\n",
        "#El país con el menor valor de indice (mayor libertad de prensa).\n",
        "#El país con el mayor valor de indice (menor libertad de prensa).\n",
        "anios = sorted(df_america['anio'].unique())\n",
        "\n",
        "print(\"Países con mayor y menor libertad de prensa por año (FOR LOOP):\\n\")\n",
        "for anio in anios:\n",
        "    df_anio = df_america[df_america['anio'] == anio]\n",
        "\n",
        "    # Omitimos el año si todos los valores son NaN\n",
        "    if df_anio['indice'].isnull().all():\n",
        "        continue\n",
        "\n",
        "    # Mínimo índice (mayor libertad)\n",
        "    min_ind = df_anio['indice'].min()\n",
        "    pais_min = df_anio[df_anio['indice'] == min_ind]['pais'].values[0]\n",
        "\n",
        "    # Máximo índice (menor libertad)\n",
        "    max_ind = df_anio['indice'].max()\n",
        "    pais_max = df_anio[df_anio['indice'] == max_ind]['pais'].values[0]\n",
        "\n",
        "    print(f\"Año {anio}:\")\n",
        "    print(f\"  ✅ Mayor libertad: {pais_min} ({min_ind})\")\n",
        "    print(f\"  ❌ Menor libertad: {pais_max} ({max_ind})\\n\")\n"
      ],
      "metadata": {
        "colab": {
          "base_uri": "https://localhost:8080/"
        },
        "id": "0D3wJr5TsYHj",
        "outputId": "15400748-17a7-4abc-b6d8-88f640604e96"
      },
      "id": "0D3wJr5TsYHj",
      "execution_count": null,
      "outputs": [
        {
          "output_type": "stream",
          "name": "stdout",
          "text": [
            "Países con mayor y menor libertad de prensa por año (FOR LOOP):\n",
            "\n",
            "Año 2001:\n",
            "  ✅ Mayor libertad: Canadá (0.8)\n",
            "  ❌ Menor libertad: Cuba (90.3)\n",
            "\n",
            "Año 2002:\n",
            "  ✅ Mayor libertad: Trinidad y Tobago (1.0)\n",
            "  ❌ Menor libertad: Cuba (97.83)\n",
            "\n",
            "Año 2003:\n",
            "  ✅ Mayor libertad: Trinidad y Tobago (2.0)\n",
            "  ❌ Menor libertad: Argentina (35826.0)\n",
            "\n",
            "Año 2004:\n",
            "  ✅ Mayor libertad: Trinidad y Tobago (2.0)\n",
            "  ❌ Menor libertad: Cuba (87.0)\n",
            "\n",
            "Año 2005:\n",
            "  ✅ Mayor libertad: Bolivia (4.5)\n",
            "  ❌ Menor libertad: Cuba (95.0)\n",
            "\n",
            "Año 2006:\n",
            "  ✅ Mayor libertad: Canadá (4.88)\n",
            "  ❌ Menor libertad: Cuba (96.17)\n",
            "\n",
            "Año 2007:\n",
            "  ✅ Mayor libertad: Canadá (3.33)\n",
            "  ❌ Menor libertad: Cuba (88.33)\n",
            "\n",
            "Año 2008:\n",
            "  ✅ Mayor libertad: Canadá (3.7)\n",
            "  ❌ Menor libertad: Cuba (94.0)\n",
            "\n",
            "Año 2009:\n",
            "  ✅ Mayor libertad: Estados Unidos (6.75)\n",
            "  ❌ Menor libertad: Cuba (78.0)\n",
            "\n",
            "Año 2012:\n",
            "  ✅ Mayor libertad: Jamaica (9.88)\n",
            "  ❌ Menor libertad: Cuba (71.64)\n",
            "\n",
            "Año 2013:\n",
            "  ✅ Mayor libertad: Jamaica (10.9)\n",
            "  ❌ Menor libertad: Cuba (70.92)\n",
            "\n",
            "Año 2014:\n",
            "  ✅ Mayor libertad: Canadá (10.99)\n",
            "  ❌ Menor libertad: Cuba (70.21)\n",
            "\n",
            "Año 2015:\n",
            "  ✅ Mayor libertad: Costa Rica (11.1)\n",
            "  ❌ Menor libertad: Cuba (70.23)\n",
            "\n",
            "Año 2017:\n",
            "  ✅ Mayor libertad: Costa Rica (11.93)\n",
            "  ❌ Menor libertad: Cuba (71.75)\n",
            "\n",
            "Año 2018:\n",
            "  ✅ Mayor libertad: Jamaica (11.33)\n",
            "  ❌ Menor libertad: Cuba (68.9)\n",
            "\n",
            "Año 2019:\n",
            "  ✅ Mayor libertad: Jamaica (11.13)\n",
            "  ❌ Menor libertad: Cuba (63.81)\n",
            "\n"
          ]
        }
      ]
    },
    {
      "cell_type": "code",
      "source": [
        "#b) Resuelve la misma tarea del punto anterior utilizando un enfoque vectorizado con groupby, sin usar ciclos explícitos.\n",
        "\n",
        "# Eliminar filas con índice NaN\n",
        "df_america_valid = df_america.dropna(subset=['indice'])\n",
        "\n",
        "# Obtener el índice mínimo por año\n",
        "idx_min = df_america_valid.groupby('anio')['indice'].idxmin()\n",
        "min_por_anio = df_america_valid.loc[idx_min][['anio', 'pais', 'indice']].rename(columns={'pais': 'mayor_libertad', 'indice': 'indice_min'})\n",
        "\n",
        "# Obtener el índice máximo por año\n",
        "idx_max = df_america_valid.groupby('anio')['indice'].idxmax()\n",
        "max_por_anio = df_america_valid.loc[idx_max][['anio', 'pais', 'indice']].rename(columns={'pais': 'menor_libertad', 'indice': 'indice_max'})\n",
        "\n",
        "# Combinar ambos resultados\n",
        "extremos = pd.merge(min_por_anio, max_por_anio, on='anio')\n",
        "\n",
        "# Mostrar\n",
        "print(\"\\nPaíses con mayor y menor libertad de prensa por año (VECTORIZADO):\")\n",
        "print(extremos.head())\n"
      ],
      "metadata": {
        "colab": {
          "base_uri": "https://localhost:8080/"
        },
        "id": "n4zc3eQSurVp",
        "outputId": "31c45c6c-787b-4a5a-c31a-dbe928b31025"
      },
      "id": "n4zc3eQSurVp",
      "execution_count": null,
      "outputs": [
        {
          "output_type": "stream",
          "name": "stdout",
          "text": [
            "\n",
            "Países con mayor y menor libertad de prensa por año (VECTORIZADO):\n",
            "   anio     mayor_libertad  indice_min menor_libertad  indice_max\n",
            "0  2001             Canadá         0.8           Cuba       90.30\n",
            "1  2002  Trinidad y Tobago         1.0           Cuba       97.83\n",
            "2  2003  Trinidad y Tobago         2.0      Argentina    35826.00\n",
            "3  2004  Trinidad y Tobago         2.0           Cuba       87.00\n",
            "4  2005            Bolivia         4.5           Cuba       95.00\n"
          ]
        }
      ]
    },
    {
      "cell_type": "markdown",
      "id": "91532f43",
      "metadata": {
        "id": "91532f43"
      },
      "source": [
        "### 4. Análisis anual del índice por país\n",
        "\n",
        "En esta sección se busca analizar la evolución del **índice máximo** de libertad de prensa alcanzado por cada país a lo largo del tiempo.\n",
        "\n",
        "#### **Tarea principal:**\n",
        "\n",
        "* Construye una tabla dinámica (`pivot_table`) donde las **filas** correspondan a los países, las **columnas** a los años (`anio`) y los **valores** sean el `indice` máximo alcanzado por cada país en ese año.\n",
        "* Asegúrate de reemplazar los valores nulos resultantes con `0`.\n",
        "\n",
        "> **Hint**: Puedes utilizar el parámetro `fill_value=0` en `pd.pivot_table(...)`.\n",
        "\n",
        "\n",
        "\n",
        "#### **Preguntas adicionales:**\n",
        "\n",
        "**a)** ¿Qué país tiene el mayor valor de `indice` en toda la tabla resultante? ¿Y cuál tiene el menor (distinto de cero)?\n",
        "**b)** ¿Qué años presentan en promedio los valores de `indice` más altos? ¿Y los más bajos?\n",
        "\n",
        "> (Pista: usa `.mean(axis=0)` sobre la tabla pivot)\n",
        "\n",
        "**c)** ¿Qué país muestra mayor **variabilidad** (diferencia entre su máximo y mínimo `indice` a lo largo del tiempo)?\n",
        "\n",
        "> (Pista: aplica `.max(axis=1) - .min(axis=1)`)\n",
        "\n",
        "**d)** ¿Existen países con índice constante a lo largo de todos los años registrados? ¿Cuáles?\n",
        "\n",
        "**e)** ¿Qué países no tienen ningún dato (es decir, quedaron con todos los valores igual a 0)? ¿Podrías explicar por qué?\n",
        "\n",
        "\n",
        "\n"
      ]
    },
    {
      "cell_type": "code",
      "execution_count": null,
      "id": "c844a0a8",
      "metadata": {
        "colab": {
          "base_uri": "https://localhost:8080/"
        },
        "id": "c844a0a8",
        "outputId": "76f65078-dc7b-4c95-f035-8a8702afc22c"
      },
      "outputs": [
        {
          "output_type": "stream",
          "name": "stdout",
          "text": [
            "anio               2001   2002     2003   2004   2005   2006   2007   2008  \\\n",
            "pais                                                                         \n",
            "Antigua y Barbuda   0.0   0.00      0.0   0.00   0.00   0.00   0.00   0.00   \n",
            "Argentina          12.0  15.17  35826.0  13.67  17.30  24.83  14.08  11.33   \n",
            "Belize              0.0   0.00      0.0   0.00   0.00   0.00   0.00   0.00   \n",
            "Bolivia            14.5   9.67     20.0   9.67   4.50  21.50  28.20  24.17   \n",
            "Brasil             18.8  16.75     16.5  14.50  17.17  25.25  18.00  15.88   \n",
            "\n",
            "anio                2009   2012   2013   2014   2015   2017   2018   2019  \n",
            "pais                                                                       \n",
            "Antigua y Barbuda   0.00   0.00  20.81   0.00   0.00   0.00   0.00   0.00  \n",
            "Argentina          16.35  25.67  25.27  26.11  25.09  25.07  26.05  28.30  \n",
            "Belize              0.00   0.00  17.05  18.54  20.61  23.43  24.55  27.50  \n",
            "Bolivia            28.13  32.80  31.04  31.29  31.78  33.88  32.45  35.38  \n",
            "Brasil             16.60  32.75  34.03  31.93  32.62  33.58  31.20  32.79  \n"
          ]
        }
      ],
      "source": [
        "#Construye una tabla dinámica (pivot_table) donde las filas correspondan a los países, las columnas a los años (anio) y los valores sean el indice máximo alcanzado por cada país en ese año.\n",
        "#Asegúrate de reemplazar los valores nulos resultantes con 0.\n",
        "#Hint: Puedes utilizar el parámetro fill_value=0 en pd.pivot_table(...).\n",
        "\n",
        "tabla_indice = pd.pivot_table(\n",
        "    df_america,\n",
        "    index='pais',\n",
        "    columns='anio',\n",
        "    values='indice',\n",
        "    aggfunc='max',\n",
        "    fill_value=0\n",
        ")\n",
        "print(tabla_indice.head())"
      ]
    },
    {
      "cell_type": "code",
      "source": [
        "#a) ¿Qué país tiene el mayor valor de indice en toda la tabla resultante?\n",
        "#¿Y cuál tiene el menor (distinto de cero)?\n",
        "\n",
        "# Máximo valor absoluto y país correspondiente\n",
        "valor_max = tabla_indice.max().max()\n",
        "pais_max = tabla_indice[tabla_indice.max(axis=1) == valor_max].index[0]\n",
        "\n",
        "# Mínimo valor (excluyendo ceros)\n",
        "valor_min = tabla_indice.replace(0, np.nan).min().min()\n",
        "pais_min = tabla_indice[tabla_indice.replace(0, np.nan).min(axis=1) == valor_min].index[0]\n",
        "\n",
        "print(f\"País con mayor índice: {pais_max} ({valor_max})\")\n",
        "print(f\"País con menor índice distinto de cero: {pais_min} ({valor_min})\")\n",
        "\n",
        "#b) ¿Qué años presentan en promedio los valores de indice más altos? ¿Y los más bajos?\n",
        "\n",
        "promedios_anio = tabla_indice.replace(0, np.nan).mean(axis=0)  # promedio por año, sin contar ceros\n",
        "\n",
        "anio_mas_alto = promedios_anio.idxmax()\n",
        "anio_mas_bajo = promedios_anio.idxmin()\n",
        "\n",
        "print(f\"Año con mayor promedio de índice: {anio_mas_alto} ({promedios_anio[anio_mas_alto]:.2f})\")\n",
        "print(f\"Año con menor promedio de índice: {anio_mas_bajo} ({promedios_anio[anio_mas_bajo]:.2f})\")\n"
      ],
      "metadata": {
        "colab": {
          "base_uri": "https://localhost:8080/"
        },
        "id": "81AFJfxKw3nH",
        "outputId": "a85cf349-d74b-467d-b479-21445ac67ace"
      },
      "id": "81AFJfxKw3nH",
      "execution_count": null,
      "outputs": [
        {
          "output_type": "stream",
          "name": "stdout",
          "text": [
            "País con mayor índice: Argentina (35826.0)\n",
            "País con menor índice distinto de cero: Canadá (0.8)\n",
            "Año con mayor promedio de índice: 2003 (1451.94)\n",
            "Año con menor promedio de índice: 2002 (16.75)\n"
          ]
        }
      ]
    },
    {
      "cell_type": "code",
      "source": [
        "#c) ¿Qué país muestra mayor variabilidad (diferencia entre su máximo y mínimo indice a lo largo del tiempo)?\n",
        "tabla_sin_ceros = tabla_indice.replace(0, np.nan)\n",
        "variabilidad = tabla_sin_ceros.max(axis=1) - tabla_sin_ceros.min(axis=1)\n",
        "\n",
        "pais_mas_variable = variabilidad.idxmax()\n",
        "print(f\"📉 País con mayor variabilidad en índice: {pais_mas_variable} ({variabilidad[pais_mas_variable]:.2f})\")\n"
      ],
      "metadata": {
        "colab": {
          "base_uri": "https://localhost:8080/"
        },
        "id": "W7_I8k4MyIKE",
        "outputId": "6aa04a7d-0f08-4eaa-ca9c-8cc1ccd2f057"
      },
      "id": "W7_I8k4MyIKE",
      "execution_count": null,
      "outputs": [
        {
          "output_type": "stream",
          "name": "stdout",
          "text": [
            "📉 País con mayor variabilidad en índice: Argentina (35814.67)\n"
          ]
        }
      ]
    },
    {
      "cell_type": "code",
      "source": [
        "#d) ¿Existen países con índice constante a lo largo de todos los años registrados? ¿Cuáles?\n",
        "constantes = tabla_sin_ceros.dropna().nunique(axis=1) == 1\n",
        "paises_constantes = constantes[constantes].index.tolist()\n",
        "\n",
        "print(\"📌 Países con índice constante a lo largo del tiempo:\")\n",
        "print(paises_constantes if paises_constantes else \"Ninguno\")\n"
      ],
      "metadata": {
        "colab": {
          "base_uri": "https://localhost:8080/"
        },
        "id": "3eqR0ir2yO2B",
        "outputId": "28b80053-0521-4574-c880-b68e00e3e98d"
      },
      "id": "3eqR0ir2yO2B",
      "execution_count": null,
      "outputs": [
        {
          "output_type": "stream",
          "name": "stdout",
          "text": [
            "📌 Países con índice constante a lo largo del tiempo:\n",
            "Ninguno\n"
          ]
        }
      ]
    },
    {
      "cell_type": "code",
      "source": [
        "#e) ¿Qué países no tienen ningún dato (es decir, quedaron con todos los valores igual a 0)? ¿Podrías explicar por qué?\n",
        "sin_datos = tabla_indice.sum(axis=1) == 0\n",
        "paises_sin_datos = tabla_indice[sin_datos].index.tolist()\n",
        "\n",
        "print(\"❌ Países sin ningún dato de índice:\")\n",
        "print(paises_sin_datos if paises_sin_datos else \"Ninguno\")\n"
      ],
      "metadata": {
        "colab": {
          "base_uri": "https://localhost:8080/"
        },
        "id": "nJV8SwX7yWAV",
        "outputId": "9651eaf1-46fe-42c7-dcc9-b2ea671051f0"
      },
      "id": "nJV8SwX7yWAV",
      "execution_count": null,
      "outputs": [
        {
          "output_type": "stream",
          "name": "stdout",
          "text": [
            "❌ Países sin ningún dato de índice:\n",
            "Ninguno\n"
          ]
        }
      ]
    }
  ],
  "metadata": {
    "kernelspec": {
      "display_name": "Python 3 (ipykernel)",
      "language": "python",
      "name": "python3"
    },
    "language_info": {
      "codemirror_mode": {
        "name": "ipython",
        "version": 3
      },
      "file_extension": ".py",
      "mimetype": "text/x-python",
      "name": "python",
      "nbconvert_exporter": "python",
      "pygments_lexer": "ipython3",
      "version": "3.10.11"
    },
    "colab": {
      "provenance": [],
      "include_colab_link": true
    }
  },
  "nbformat": 4,
  "nbformat_minor": 5
}