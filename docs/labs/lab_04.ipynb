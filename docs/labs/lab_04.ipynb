{
  "cells": [
    {
      "cell_type": "markdown",
      "id": "64fe4451",
      "metadata": {
        "id": "64fe4451"
      },
      "source": [
        "<a href=\"https://colab.research.google.com/github/fralfaro/MAT281/blob/main/docs/labs/lab_04.ipynb\" target=\"_parent\"><img src=\"https://colab.research.google.com/assets/colab-badge.svg\" alt=\"Open In Colab\"/></a>\n",
        "\n",
        "# MAT281 - Laboratorio N°04\n"
      ]
    },
    {
      "cell_type": "markdown",
      "id": "27b10378",
      "metadata": {
        "id": "27b10378"
      },
      "source": [
        "**Objetivo**: Aplicar técnicas intermedias y avanzadas de análisis de datos con pandas utilizando un caso real: el Índice de Libertad de Prensa. Este laboratorio incluye operaciones de limpieza, transformación, combinación de datos, y análisis exploratorio usando `merge`, `groupby`, `concat` y otras funciones fundamentales.\n"
      ]
    },
    {
      "cell_type": "markdown",
      "id": "63a15921",
      "metadata": {
        "id": "63a15921"
      },
      "source": [
        "\n",
        "\n",
        "**Descripción del Dataset**\n",
        "\n",
        "El presente conjunto de datos está orientado al análisis del **Índice de Libertad de Prensa**, una métrica internacional que evalúa el nivel de libertad del que gozan periodistas y medios de comunicación en distintos países. Este índice es recopilado anualmente por la organización **Reporteros sin Fronteras**.\n",
        "\n",
        "La base de datos contempla observaciones por país y año, e incluye tanto el valor del índice como el ranking correspondiente. A menor puntaje en el índice, mayor nivel de libertad de prensa.\n",
        "\n",
        "**Diccionario de variables**\n",
        "\n",
        "| Variable     | Clase    | Descripción                                                                          |\n",
        "| ------------ | -------- | ------------------------------------------------------------------------------------ |\n",
        "| `codigo_iso` | carácter | Código ISO 3166-1 alfa-3 que representa a cada país.                                 |\n",
        "| `pais`       | carácter | Nombre oficial del país.                                                             |\n",
        "| `anio`       | entero   | Año en que se registró la medición del índice.                                       |\n",
        "| `indice`     | numérico | Valor numérico del Índice de Libertad de Prensa (menor valor indica mayor libertad). |\n",
        "| `ranking`    | entero   | Posición relativa del país en el ranking mundial de libertad de prensa.              |\n",
        "\n",
        "\n",
        "**Fuente original y adaptación pedagógica**\n",
        "\n",
        "* **Fuente original**: [Reporteros sin Fronteras](https://www.rsf-es.org/), recopilado y publicado a través del portal del [Banco Mundial](https://tcdata360.worldbank.org/indicators/h3f86901f?country=BRA&indicator=32416&viz=line_chart&years=2001,2019).\n",
        "* **Adaptación educativa**: Los archivos han sido modificados intencionalmente para incorporar desafíos técnicos que permiten aplicar los contenidos abordados en clases, tales como limpieza de datos, normalización, detección de duplicados, y combinación de fuentes.\n",
        "\n",
        "\n",
        "**Descripción de los archivos disponibles**\n",
        "\n",
        "* **`libertad_prensa_codigo.csv`**: Contiene los pares `codigo_iso` y `pais`. Incluye intencionalmente un código ISO con dos nombres distintos de país para efectos de limpieza y validación de datos.\n",
        "\n",
        "* **`libertad_prensa_01.csv`**: Contiene registros de los años **anteriores a 2010**. Incluye las variables `PAIS`, `ANIO`, `INDICE`, y `RANKING` con nombres de columna en **mayúsculas**.\n",
        "\n",
        "* **`libertad_prensa_02.csv`**: Contiene registros de los años **desde 2010 en adelante**. Estructura similar al archivo anterior, con nombres de columna también en **mayúsculas**.\n",
        "\n",
        "\n",
        "\n"
      ]
    },
    {
      "cell_type": "code",
      "execution_count": 1,
      "id": "28a58320",
      "metadata": {
        "id": "28a58320"
      },
      "outputs": [],
      "source": [
        "import numpy as np\n",
        "import pandas as pd\n",
        "\n",
        "# lectura de datos\n",
        "archivos_anio = [\n",
        "    'https://raw.githubusercontent.com/fralfaro/MAT281/main/docs/labs/data/libertad_prensa_01.csv',\n",
        "    'https://raw.githubusercontent.com/fralfaro/MAT281/main/docs/labs/data/libertad_prensa_02.csv'\n",
        " ]\n",
        "df_codigos = pd.read_csv('https://raw.githubusercontent.com/fralfaro/MAT281/main/docs/labs/data/libertad_prensa_codigo.csv')"
      ]
    },
    {
      "cell_type": "markdown",
      "id": "0894056d",
      "metadata": {
        "id": "0894056d"
      },
      "source": [
        "\n",
        "\n",
        "### 1. Consolidación y limpieza de datos\n",
        "\n",
        "A partir de los archivos disponibles, realice los siguientes pasos:\n",
        "\n",
        "**a)** Cree un DataFrame llamado `df_anio` que consolide la información proveniente de los archivos **`libertad_prensa_01.csv`** y **`libertad_prensa_02.csv`**, correspondientes a distintas ventanas de tiempo. Recuerde que ambos archivos tienen nombres de columnas en mayúscula, por lo que debe normalizarlas a **minúscula** para asegurar consistencia.\n",
        "\n",
        "**b)** Explore el archivo **`libertad_prensa_codigo.csv`** e identifique el código ISO que aparece asociado a dos nombres de país distintos. Elimine el registro que corresponda a un valor incorrecto o inconsistente, conservando solo el que considere válido.\n",
        "\n",
        "**c)** Una vez preparados los archivos, cree un nuevo DataFrame llamado `df` que combine `df_anio` con `df_codigos`, utilizando la columna `codigo_iso` como clave. Asegúrese de realizar una unión que conserve únicamente los registros que tengan coincidencia en ambas fuentes.\n",
        "\n",
        "> **Sugerencia**:\n",
        ">\n",
        "> * Para unir los archivos por filas (años), utilice la función `pd.concat([...])`.\n",
        "> * Para combinar información por columnas (variables), utilice `pd.merge(...)` especificando `on='codigo_iso'`.\n",
        "\n"
      ]
    },
    {
      "cell_type": "code",
      "execution_count": null,
      "id": "cfd268a0",
      "metadata": {
        "id": "cfd268a0"
      },
      "outputs": [],
      "source": [
        "# FIXME\n",
        "\n",
        "df = pd.DataFrame()"
      ]
    },
    {
      "cell_type": "markdown",
      "id": "282e8301",
      "metadata": {
        "id": "282e8301"
      },
      "source": [
        "\n",
        "\n",
        "### 2. Exploración inicial del conjunto de datos\n",
        "\n",
        "Una vez que hayas consolidado el DataFrame final `df`, realiza un análisis exploratorio básico respondiendo las siguientes preguntas:\n",
        "\n",
        "#### **Estructura del DataFrame**\n",
        "\n",
        "* ¿Cuántas **filas (observaciones)** contiene el conjunto de datos?\n",
        "* ¿Cuántas **columnas** tiene el DataFrame?\n",
        "* ¿Cuáles son los **nombres de las columnas**?\n",
        "* ¿Qué **tipo de datos** tiene cada columna?\n",
        "* ¿Hay columnas con un tipo de dato inesperado (por ejemplo, fechas como strings)?\n",
        "\n",
        "#### **Resumen estadístico**\n",
        "\n",
        "* Genera un resumen estadístico del conjunto de datos con `.describe()`.\n",
        "  ¿Qué observas sobre los valores de `indice` y `ranking`?\n",
        "* ¿Qué valores mínimo, máximo y promedio tiene la columna `indice`?\n",
        "* ¿Qué países presentan los valores extremos en `indice` y `ranking`?\n",
        "\n",
        "#### **Datos faltantes**\n",
        "\n",
        "* ¿Cuántos valores nulos hay en cada columna?\n",
        "* ¿Qué proporción de observaciones tienen valores faltantes?\n",
        "* ¿Hay columnas con más del 30% de datos faltantes?\n",
        "\n",
        "#### **Unicidad y duplicados**\n",
        "\n",
        "* ¿Cuántos países distintos (`pais`) hay en el DataFrame?\n",
        "* ¿Cuántos años distintos (`anio`) hay representados?\n",
        "* ¿Existen filas duplicadas (exactamente iguales)? ¿Cuántas?\n",
        "\n",
        "#### **Validación cruzada de columnas**\n",
        "\n",
        "* ¿Hay inconsistencias entre el país (`pais`) y su código (`codigo_iso`)?\n",
        "  (por ejemplo, un mismo código ISO asociado a más de un país)\n",
        "\n",
        "> **Sugerencia**: Apoya tu análisis con funciones como `.info()`, `.nunique()`, `.isnull().sum()`, `.duplicated()`, `.value_counts()`, entre otras.\n",
        "\n",
        "\n",
        "\n",
        "    "
      ]
    },
    {
      "cell_type": "code",
      "execution_count": null,
      "id": "14369830",
      "metadata": {
        "id": "14369830"
      },
      "outputs": [],
      "source": [
        "# FIXME"
      ]
    },
    {
      "cell_type": "markdown",
      "id": "98efcc39",
      "metadata": {
        "id": "98efcc39"
      },
      "source": [
        "\n",
        "\n",
        "\n",
        "### 3. Comparación regional: países latinoamericanos\n",
        "\n",
        "En esta sección se busca identificar cuáles son los países de América Latina que han presentado los valores extremos del **Índice de Libertad de Prensa** en cada año observado.\n",
        "\n",
        "> Recuerda que un menor puntaje en `indice` implica mayor libertad de prensa.\n",
        "\n",
        "#### **Tareas:**\n",
        "\n",
        "**a)** Utilizando un ciclo `for`, recorre cada año del conjunto de datos filtrado por países latinoamericanos, y determina para cada año:\n",
        "\n",
        "* El país con el menor valor de `indice` (mayor libertad de prensa).\n",
        "* El país con el mayor valor de `indice` (menor libertad de prensa).\n",
        "\n",
        "**b)** Resuelve la misma tarea del punto anterior utilizando un enfoque vectorizado con `groupby`, sin usar ciclos explícitos.\n",
        "\n",
        "\n",
        "\n",
        "#### **Lista de países latinoamericanos considerada:**\n",
        "\n",
        "```python\n",
        "america = ['ARG', 'ATG', 'BLZ', 'BOL', 'BRA', 'CAN', 'CHL', 'COL', 'CRI',\n",
        "           'CUB', 'DOM', 'ECU', 'GRD', 'GTM', 'GUY', 'HND', 'HTI', 'JAM',\n",
        "           'MEX', 'NIC', 'PAN', 'PER', 'PRY', 'SLV', 'SUR', 'TTO', 'URY',\n",
        "           'USA', 'VEN']\n",
        "```\n",
        "\n",
        "> Puedes usar esta lista para filtrar el DataFrame final por la columna `codigo_iso`.\n",
        "\n"
      ]
    },
    {
      "cell_type": "code",
      "execution_count": null,
      "id": "9077a9bc",
      "metadata": {
        "id": "9077a9bc"
      },
      "outputs": [],
      "source": [
        "# respuesta\n",
        "america = ['ARG', 'ATG', 'BLZ', 'BOL', 'BRA', 'CAN', 'CHL', 'COL', 'CRI',\n",
        "       'CUB', 'DOM', 'ECU', 'GRD', 'GTM', 'GUY', 'HND', 'HTI', 'JAM',\n",
        "       'MEX', 'NIC', 'PAN', 'PER', 'PRY', 'SLV', 'SUR', 'TTO', 'URY',\n",
        "       'USA', 'VEN']\n",
        "\n",
        "df_america =  pd.DataFrame() # FIX ME"
      ]
    },
    {
      "cell_type": "markdown",
      "id": "91532f43",
      "metadata": {
        "id": "91532f43"
      },
      "source": [
        "### 4. Análisis anual del índice por país\n",
        "\n",
        "En esta sección se busca analizar la evolución del **índice máximo** de libertad de prensa alcanzado por cada país a lo largo del tiempo.\n",
        "\n",
        "#### **Tarea principal:**\n",
        "\n",
        "* Construye una tabla dinámica (`pivot_table`) donde las **filas** correspondan a los países, las **columnas** a los años (`anio`) y los **valores** sean el `indice` máximo alcanzado por cada país en ese año.\n",
        "* Asegúrate de reemplazar los valores nulos resultantes con `0`.\n",
        "\n",
        "> **Hint**: Puedes utilizar el parámetro `fill_value=0` en `pd.pivot_table(...)`.\n",
        "\n",
        "\n",
        "\n",
        "#### **Preguntas adicionales:**\n",
        "\n",
        "**a)** ¿Qué país tiene el mayor valor de `indice` en toda la tabla resultante? ¿Y cuál tiene el menor (distinto de cero)?\n",
        "**b)** ¿Qué años presentan en promedio los valores de `indice` más altos? ¿Y los más bajos?\n",
        "\n",
        "> (Pista: usa `.mean(axis=0)` sobre la tabla pivot)\n",
        "\n",
        "**c)** ¿Qué país muestra mayor **variabilidad** (diferencia entre su máximo y mínimo `indice` a lo largo del tiempo)?\n",
        "\n",
        "> (Pista: aplica `.max(axis=1) - .min(axis=1)`)\n",
        "\n",
        "**d)** ¿Existen países con índice constante a lo largo de todos los años registrados? ¿Cuáles?\n",
        "\n",
        "**e)** ¿Qué países no tienen ningún dato (es decir, quedaron con todos los valores igual a 0)? ¿Podrías explicar por qué?\n",
        "\n",
        "\n",
        "\n"
      ]
    },
    {
      "cell_type": "code",
      "execution_count": null,
      "id": "c844a0a8",
      "metadata": {
        "id": "c844a0a8"
      },
      "outputs": [],
      "source": [
        "# FIX ME"
      ]
    }
  ],
  "metadata": {
    "kernelspec": {
      "display_name": "Python 3 (ipykernel)",
      "language": "python",
      "name": "python3"
    },
    "language_info": {
      "codemirror_mode": {
        "name": "ipython",
        "version": 3
      },
      "file_extension": ".py",
      "mimetype": "text/x-python",
      "name": "python",
      "nbconvert_exporter": "python",
      "pygments_lexer": "ipython3",
      "version": "3.10.11"
    },
    "colab": {
      "provenance": []
    }
  },
  "nbformat": 4,
  "nbformat_minor": 5
}